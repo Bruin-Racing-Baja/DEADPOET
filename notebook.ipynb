{
 "cells": [
  {
   "cell_type": "markdown",
   "metadata": {},
   "source": [
    "### Imports and Setup"
   ]
  },
  {
   "cell_type": "code",
   "execution_count": null,
   "metadata": {},
   "outputs": [],
   "source": [
    "import odrive\n",
    "import time\n",
    "from IPython.display import display\n",
    "import ipywidgets as widgets\n",
    "\n",
    "odrv0 = odrive.find_any()\n",
    "axis0 = odrv0.axis0\n",
    "axis1 = odrv0.axis1\n",
    "\n",
    "inbound_pin = 8\n",
    "outbound_pin = 9\n",
    "\n",
    "def getPin(pin):\n",
    "    mask = 1 << (pin - 1)\n",
    "    return (odrv0.get_gpio_states() & mask) != 0\n"
   ]
  },
  {
   "cell_type": "markdown",
   "metadata": {},
   "source": [
    "### Error Checking"
   ]
  },
  {
   "cell_type": "code",
   "execution_count": null,
   "metadata": {},
   "outputs": [],
   "source": [
    "odrv0.clear_errors()"
   ]
  },
  {
   "cell_type": "code",
   "execution_count": null,
   "metadata": {},
   "outputs": [],
   "source": [
    "odrive.utils.dump_errors(odrv0)"
   ]
  },
  {
   "cell_type": "markdown",
   "metadata": {},
   "source": [
    "### Full State Calibration"
   ]
  },
  {
   "cell_type": "code",
   "execution_count": null,
   "metadata": {},
   "outputs": [],
   "source": [
    "axis1.requested_state = odrive.enums.AXIS_STATE_FULL_CALIBRATION_SEQUENCE\n",
    "\n",
    "while axis1.current_state != 1:\n",
    "    print(f\"Current State: {axis1.current_state}\", end=\"\\r\")\n",
    "    time.sleep(0.1)\n",
    "print(\"\\nDone!\")\n"
   ]
  },
  {
   "cell_type": "code",
   "execution_count": null,
   "metadata": {},
   "outputs": [],
   "source": [
    "axis1.motor.config.pre_calibrated = True\n",
    "axis1.encoder.config.pre_calibrated = True\n",
    "odrv0.save_configuration()"
   ]
  },
  {
   "cell_type": "markdown",
   "metadata": {},
   "source": [
    "### Index Search"
   ]
  },
  {
   "cell_type": "code",
   "execution_count": null,
   "metadata": {},
   "outputs": [],
   "source": [
    "\n",
    "axis1.requested_state = odrive.enums.AXIS_STATE_ENCODER_INDEX_SEARCH\n",
    "\n",
    "while axis1.current_state != 1:\n",
    "    time.sleep(0.1)\n",
    "\n",
    "print(\"Done!\")\n"
   ]
  },
  {
   "cell_type": "markdown",
   "metadata": {},
   "source": [
    "### Encoder Logging"
   ]
  },
  {
   "cell_type": "code",
   "execution_count": null,
   "metadata": {},
   "outputs": [],
   "source": [
    "start = axis1.encoder.shadow_count\n",
    "while True:\n",
    "    print(axis1.encoder.shadow_count-start, end=\"\\r\")\n",
    "    time.sleep(0.01)"
   ]
  },
  {
   "cell_type": "markdown",
   "metadata": {},
   "source": [
    "### Velocity Control"
   ]
  },
  {
   "cell_type": "code",
   "execution_count": null,
   "metadata": {},
   "outputs": [],
   "source": [
    "up_button = widgets.Button(description='Up', layout=widgets.Layout(width='100px',height=\"100px\"))\n",
    "down_button = widgets.Button(description='Down', layout=widgets.Layout(width='100px',height=\"100px\"))\n",
    "stop_button = widgets.Button(description='Stop', layout=widgets.Layout(width='100px',height=\"100px\"))\n",
    "change_dir_button = widgets.Button(description='Change Dir', layout=widgets.Layout(width='100px',height=\"100px\"))\n",
    "\n",
    "counter = widgets.IntText(value=0, description='Vel:')\n",
    "\n",
    "def onUpButton(button):\n",
    "    counter.value += 1\n",
    "    axis1.requested_state = 8\n",
    "    axis1.controller.input_vel = counter.value\n",
    "\n",
    "\n",
    "def onDownButton(button):\n",
    "    counter.value -= 1\n",
    "    axis1.requested_state = 8\n",
    "    axis1.controller.input_vel = counter.value\n",
    "\n",
    "def onStopButton(button):\n",
    "    axis1.controller.input_vel = 0\n",
    "    counter.value = 0\n",
    "    axis1.requested_state = 1\n",
    "\n",
    "def onChangeDir(button):\n",
    "    counter.value *= -1\n",
    "    axis1.requested_state = 8\n",
    "    axis1.controller.input_vel = counter.value\n",
    "\n",
    "\n",
    "up_button.on_click(onUpButton)\n",
    "down_button.on_click(onDownButton)\n",
    "stop_button.on_click(onStopButton)\n",
    "change_dir_button.on_click(onChangeDir)\n",
    "\n",
    "box_layout = widgets.Layout(display='flex', flex_flow='row', align_items='center')\n",
    "\n",
    "container = widgets.Box(children=[up_button, down_button, change_dir_button, stop_button, counter], layout=box_layout)\n",
    "\n",
    "display(container)\n"
   ]
  },
  {
   "cell_type": "code",
   "execution_count": null,
   "metadata": {},
   "outputs": [],
   "source": [
    "axis1.requested_state = 1"
   ]
  },
  {
   "cell_type": "markdown",
   "metadata": {},
   "source": [
    "### Estops"
   ]
  },
  {
   "cell_type": "code",
   "execution_count": null,
   "metadata": {},
   "outputs": [],
   "source": [
    "while True:\n",
    "    print(f\"inbound: {getPin(inbound_pin)}, outbound: {getPin(outbound_pin)}\", end=\"\\r\")\n",
    "    time.sleep(0.01)"
   ]
  },
  {
   "cell_type": "code",
   "execution_count": null,
   "metadata": {},
   "outputs": [],
   "source": [
    "import odrive\n",
    "import re\n",
    "errors = {}\n",
    "for name, value in odrive.enums.__dict__.items():\n",
    "    if not callable(value) and not name.startswith('__') and re.match(\".*_ERROR_.*\", name):\n",
    "        errors[name] = value\n",
    "print(sorted(errors))\n"
   ]
  }
 ],
 "metadata": {
  "kernelspec": {
   "display_name": "Python 3.10.9 64-bit",
   "language": "python",
   "name": "python3"
  },
  "language_info": {
   "codemirror_mode": {
    "name": "ipython",
    "version": 3
   },
   "file_extension": ".py",
   "mimetype": "text/x-python",
   "name": "python",
   "nbconvert_exporter": "python",
   "pygments_lexer": "ipython3",
   "version": "3.10.9"
  },
  "orig_nbformat": 4,
  "vscode": {
   "interpreter": {
    "hash": "e7370f93d1d0cde622a1f8e1c04877d8463912d04d973331ad4851f04de6915a"
   }
  }
 },
 "nbformat": 4,
 "nbformat_minor": 2
}
